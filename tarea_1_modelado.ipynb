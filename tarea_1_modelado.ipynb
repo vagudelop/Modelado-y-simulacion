{
  "nbformat": 4,
  "nbformat_minor": 0,
  "metadata": {
    "colab": {
      "name": "tarea 1 modelado",
      "provenance": [],
      "authorship_tag": "ABX9TyOmbli/UalYr7vFNICjD75H",
      "include_colab_link": true
    },
    "kernelspec": {
      "name": "python3",
      "display_name": "Python 3"
    }
  },
  "cells": [
    {
      "cell_type": "markdown",
      "metadata": {
        "id": "view-in-github",
        "colab_type": "text"
      },
      "source": [
        "<a href=\"https://colab.research.google.com/github/vagudelop/Modelado-y-simulacion/blob/master/tarea_1_modelado.ipynb\" target=\"_parent\"><img src=\"https://colab.research.google.com/assets/colab-badge.svg\" alt=\"Open In Colab\"/></a>"
      ]
    },
    {
      "cell_type": "markdown",
      "metadata": {
        "id": "CApAAo7VIy6I",
        "colab_type": "text"
      },
      "source": [
        "\n",
        "**Ejemplo 2:**\n",
        "Escribir una función que reciba una muestra de números en una lista y devuelva otra lista con sus cuadrados."
      ]
    },
    {
      "cell_type": "code",
      "metadata": {
        "id": "QQ4xj6kUI8cN",
        "colab_type": "code",
        "colab": {
          "base_uri": "https://localhost:8080/",
          "height": 34
        },
        "outputId": "ce25daf9-887f-4af9-c012-80dce8ecc801"
      },
      "source": [
        "def L_c (lista):\n",
        "  L_n = []\n",
        "  for i in lista:\n",
        "    L_n.append(i**2)\n",
        "  return L_n\n",
        "\n",
        "l=[1, 3, 6, 9, 12]\n",
        "print(L_c (l))\n"
      ],
      "execution_count": null,
      "outputs": [
        {
          "output_type": "stream",
          "text": [
            "[1, 9, 36, 81, 144]\n"
          ],
          "name": "stdout"
        }
      ]
    },
    {
      "cell_type": "markdown",
      "metadata": {
        "id": "lf3_OJFzMs0k",
        "colab_type": "text"
      },
      "source": [
        "**Ejemplo 3:**\n",
        "Escribir una función que convierta un número decimal en binario y otra que convierta un número binario en decimal."
      ]
    },
    {
      "cell_type": "code",
      "metadata": {
        "id": "3FhbKidmOQ2S",
        "colab_type": "code",
        "colab": {
          "base_uri": "https://localhost:8080/",
          "height": 34
        },
        "outputId": "f7e4a1f8-6ab1-4b8e-e7ef-e96d3cbee21d"
      },
      "source": [
        "#Decimal a binario\n",
        "\n",
        "def DaB (num):\n",
        "  lis=[]\n",
        "  while (num>0):\n",
        "    residuo = str (num % 2)\n",
        "    num = num //2\n",
        "    lis.append(residuo)\n",
        "  lis.reverse()\n",
        "  return ''.join(lis) \n",
        "\n",
        "print(DaB(24))"
      ],
      "execution_count": null,
      "outputs": [
        {
          "output_type": "stream",
          "text": [
            "11000\n"
          ],
          "name": "stdout"
        }
      ]
    },
    {
      "cell_type": "code",
      "metadata": {
        "id": "TMdjSsp8U2Nl",
        "colab_type": "code",
        "colab": {
          "base_uri": "https://localhost:8080/",
          "height": 34
        },
        "outputId": "d8b638e2-ed31-40e4-80ce-9f06fce32673"
      },
      "source": [
        "#Binario a decimal\n",
        "\n",
        "def BaD (binario):\n",
        "  binario = list(binario)\n",
        "  tam= len(binario)\n",
        "  dec=0\n",
        "  for i in range (len(binario)):\n",
        "    dec = dec + ((2 ** (tam-1)) * (int(binario[(i)] )))\n",
        "    tam = tam - 1\n",
        "  return dec\n",
        "\n",
        "print(BaD('11000'))"
      ],
      "execution_count": null,
      "outputs": [
        {
          "output_type": "stream",
          "text": [
            "24\n"
          ],
          "name": "stdout"
        }
      ]
    },
    {
      "cell_type": "markdown",
      "metadata": {
        "id": "ugh7yrHKb60Z",
        "colab_type": "text"
      },
      "source": [
        "**Ejemplo 4:**\n",
        "Escribir un programa que reciba una cadena de caracteres y devuelva un diccionario con cada palabra que contiene y su frecuencia. Escribir otra función que reciba el diccionario generado con la función anterior y devuelva una tupla con la palabra más repetida y su frecuencia."
      ]
    },
    {
      "cell_type": "code",
      "metadata": {
        "id": "_nEyZ9zCb8ji",
        "colab_type": "code",
        "colab": {}
      },
      "source": [
        ""
      ],
      "execution_count": null,
      "outputs": []
    }
  ]
}